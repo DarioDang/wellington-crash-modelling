{
 "cells": [
  {
   "cell_type": "markdown",
   "id": "f8cbf0bd-e585-412b-b8cc-02f01dd0956e",
   "metadata": {},
   "source": [
    "# Extract Wellington Liquor Store Location Using OpenStreetMap API "
   ]
  },
  {
   "cell_type": "code",
   "execution_count": 2,
   "id": "e718ab9a-143e-4d8a-abfb-c1e5f5cd9168",
   "metadata": {},
   "outputs": [],
   "source": [
    "import osmnx as ox"
   ]
  },
  {
   "cell_type": "code",
   "execution_count": 3,
   "id": "d33f424d-ec9d-440b-937d-96396a3c0301",
   "metadata": {},
   "outputs": [
    {
     "name": "stderr",
     "output_type": "stream",
     "text": [
      "/tmp/ipykernel_3673104/2866812930.py:8: FutureWarning: The `geometries` module and `geometries_from_X` functions have been renamed the `features` module and `features_from_X` functions. Use these instead. The `geometries` module and function names are deprecated and will be removed in the v2.0.0 release. See the OSMnx v2 migration guide: https://github.com/gboeing/osmnx/issues/1123\n",
      "  liquor_stores = ox.geometries_from_place(place_name, tags={'shop': 'alcohol'})\n"
     ]
    },
    {
     "data": {
      "text/html": [
       "<div>\n",
       "<style scoped>\n",
       "    .dataframe tbody tr th:only-of-type {\n",
       "        vertical-align: middle;\n",
       "    }\n",
       "\n",
       "    .dataframe tbody tr th {\n",
       "        vertical-align: top;\n",
       "    }\n",
       "\n",
       "    .dataframe thead th {\n",
       "        text-align: right;\n",
       "    }\n",
       "</style>\n",
       "<table border=\"1\" class=\"dataframe\">\n",
       "  <thead>\n",
       "    <tr style=\"text-align: right;\">\n",
       "      <th></th>\n",
       "      <th></th>\n",
       "      <th>name</th>\n",
       "      <th>geometry</th>\n",
       "    </tr>\n",
       "    <tr>\n",
       "      <th>element_type</th>\n",
       "      <th>osmid</th>\n",
       "      <th></th>\n",
       "      <th></th>\n",
       "    </tr>\n",
       "  </thead>\n",
       "  <tbody>\n",
       "    <tr>\n",
       "      <th rowspan=\"12\" valign=\"top\">node</th>\n",
       "      <th>298578488</th>\n",
       "      <td>The Cellar Room</td>\n",
       "      <td>POINT (174.76361 -41.30541)</td>\n",
       "    </tr>\n",
       "    <tr>\n",
       "      <th>1116347011</th>\n",
       "      <td>Regional Wines and Spirits</td>\n",
       "      <td>POINT (174.78208 -41.29977)</td>\n",
       "    </tr>\n",
       "    <tr>\n",
       "      <th>1237961824</th>\n",
       "      <td>Liquorland</td>\n",
       "      <td>POINT (174.81510 -41.31532)</td>\n",
       "    </tr>\n",
       "    <tr>\n",
       "      <th>1793947848</th>\n",
       "      <td>Discount Liquor Centre</td>\n",
       "      <td>POINT (174.77470 -41.29102)</td>\n",
       "    </tr>\n",
       "    <tr>\n",
       "      <th>1933112463</th>\n",
       "      <td>NaN</td>\n",
       "      <td>POINT (174.78188 -41.31368)</td>\n",
       "    </tr>\n",
       "    <tr>\n",
       "      <th>2577628991</th>\n",
       "      <td>Garage Project</td>\n",
       "      <td>POINT (174.76791 -41.29516)</td>\n",
       "    </tr>\n",
       "    <tr>\n",
       "      <th>2581960427</th>\n",
       "      <td>Liquorland</td>\n",
       "      <td>POINT (174.77242 -41.29545)</td>\n",
       "    </tr>\n",
       "    <tr>\n",
       "      <th>2626504642</th>\n",
       "      <td>Cuba Liquor World</td>\n",
       "      <td>POINT (174.77575 -41.29348)</td>\n",
       "    </tr>\n",
       "    <tr>\n",
       "      <th>2967030816</th>\n",
       "      <td>Glengarry Wines</td>\n",
       "      <td>POINT (174.76241 -41.28938)</td>\n",
       "    </tr>\n",
       "    <tr>\n",
       "      <th>6064972586</th>\n",
       "      <td>Super Liquor</td>\n",
       "      <td>POINT (174.73721 -41.28436)</td>\n",
       "    </tr>\n",
       "    <tr>\n",
       "      <th>6856370255</th>\n",
       "      <td>Thirsty Liquor</td>\n",
       "      <td>POINT (174.77322 -41.33440)</td>\n",
       "    </tr>\n",
       "    <tr>\n",
       "      <th>12082128603</th>\n",
       "      <td>The Bottle-O Miramar</td>\n",
       "      <td>POINT (174.82569 -41.30705)</td>\n",
       "    </tr>\n",
       "    <tr>\n",
       "      <th rowspan=\"2\" valign=\"top\">way</th>\n",
       "      <th>396336896</th>\n",
       "      <td>The Bottle-O</td>\n",
       "      <td>POLYGON ((174.82564 -41.17718, 174.82566 -41.1...</td>\n",
       "    </tr>\n",
       "    <tr>\n",
       "      <th>1155390697</th>\n",
       "      <td>JK Liquor</td>\n",
       "      <td>POLYGON ((174.79910 -41.22814, 174.79920 -41.2...</td>\n",
       "    </tr>\n",
       "  </tbody>\n",
       "</table>\n",
       "</div>"
      ],
      "text/plain": [
       "                                                name  \\\n",
       "element_type osmid                                     \n",
       "node         298578488               The Cellar Room   \n",
       "             1116347011   Regional Wines and Spirits   \n",
       "             1237961824                   Liquorland   \n",
       "             1793947848       Discount Liquor Centre   \n",
       "             1933112463                          NaN   \n",
       "             2577628991               Garage Project   \n",
       "             2581960427                   Liquorland   \n",
       "             2626504642            Cuba Liquor World   \n",
       "             2967030816              Glengarry Wines   \n",
       "             6064972586                 Super Liquor   \n",
       "             6856370255               Thirsty Liquor   \n",
       "             12082128603        The Bottle-O Miramar   \n",
       "way          396336896                  The Bottle-O   \n",
       "             1155390697                    JK Liquor   \n",
       "\n",
       "                                                                   geometry  \n",
       "element_type osmid                                                           \n",
       "node         298578488                          POINT (174.76361 -41.30541)  \n",
       "             1116347011                         POINT (174.78208 -41.29977)  \n",
       "             1237961824                         POINT (174.81510 -41.31532)  \n",
       "             1793947848                         POINT (174.77470 -41.29102)  \n",
       "             1933112463                         POINT (174.78188 -41.31368)  \n",
       "             2577628991                         POINT (174.76791 -41.29516)  \n",
       "             2581960427                         POINT (174.77242 -41.29545)  \n",
       "             2626504642                         POINT (174.77575 -41.29348)  \n",
       "             2967030816                         POINT (174.76241 -41.28938)  \n",
       "             6064972586                         POINT (174.73721 -41.28436)  \n",
       "             6856370255                         POINT (174.77322 -41.33440)  \n",
       "             12082128603                        POINT (174.82569 -41.30705)  \n",
       "way          396336896    POLYGON ((174.82564 -41.17718, 174.82566 -41.1...  \n",
       "             1155390697   POLYGON ((174.79910 -41.22814, 174.79920 -41.2...  "
      ]
     },
     "execution_count": 3,
     "metadata": {},
     "output_type": "execute_result"
    }
   ],
   "source": [
    "# Define the area of interest - Wellington, New Zealand\n",
    "place_name = \"Wellington City, New Zealand\"\n",
    "\n",
    "# Get the polygon for Wellington City\n",
    "G = ox.graph_from_place(place_name, network_type='drive')\n",
    "\n",
    "# Retrieve points of interest for liquor stores\n",
    "liquor_stores = ox.geometries_from_place(place_name, tags={'shop': 'alcohol'})\n",
    "\n",
    "# Print the dataframe of liquor stores\n",
    "liquor_stores[['name', 'geometry']]"
   ]
  },
  {
   "cell_type": "code",
   "execution_count": 7,
   "id": "0799a019-5094-426f-8905-6605be4bc6b4",
   "metadata": {},
   "outputs": [
    {
     "name": "stdout",
     "output_type": "stream",
     "text": [
      "Liquor store data has been saved to liquor_stores_wellington.geojson\n"
     ]
    }
   ],
   "source": [
    "# Clean data - ensure name is a string and drop any rows with missing geometry\n",
    "liquor_stores_clean = liquor_stores_clean.dropna(subset=['geometry']\n",
    "liquor_stores_clean['name'] = liquor_stores_clean['name'].astype(str)\n",
    "\n",
    "# Specify the path where you want to save the GeoJSON file\n",
    "output_geojson_path = 'liquor_stores_wellington.geojson'\n",
    "\n",
    "# Save the GeoDataFrame to GeoJSON format\n",
    "liquor_stores_clean.to_file(output_geojson_path, driver=\"GeoJSON\")\n",
    "\n",
    "print(f\"Liquor store data has been saved to {output_geojson_path}\")"
   ]
  }
 ],
 "metadata": {
  "kernelspec": {
   "display_name": "Python 3 (ipykernel)",
   "language": "python",
   "name": "python3"
  },
  "language_info": {
   "codemirror_mode": {
    "name": "ipython",
    "version": 3
   },
   "file_extension": ".py",
   "mimetype": "text/x-python",
   "name": "python",
   "nbconvert_exporter": "python",
   "pygments_lexer": "ipython3",
   "version": "3.11.9"
  }
 },
 "nbformat": 4,
 "nbformat_minor": 5
}
